{
 "cells": [
  {
   "cell_type": "markdown",
   "metadata": {},
   "source": [
    "### [1번 문제]\n",
    "\n",
    "클래스와 모듈의 공통점과 차이점에 대해 설명하시오.\n"
   ]
  },
  {
   "cell_type": "markdown",
   "metadata": {},
   "source": [
    "---\n",
    "\n",
    "◾공통점 : 이름 공간을 구성한다. \n",
    "\n",
    "◾차이점 : 묘듈은 파일 단위로 이름 공간을 구성하는데 반해, 클래스는 클래스 영역 내에 이름 공간을 구성한다.  \n",
    "\n",
    "---"
   ]
  },
  {
   "cell_type": "markdown",
   "metadata": {},
   "source": [
    "### [2번 문제]\n",
    "\n",
    "다형성에 대해 설명하고 다형성을 보여주는 자신만의 파이썬 코드 예제를 제시하시오.\n"
   ]
  },
  {
   "cell_type": "code",
   "execution_count": 51,
   "metadata": {},
   "outputs": [
    {
     "name": "stdout",
     "output_type": "stream",
     "text": [
      "야옹\n",
      "짹짹\n",
      "...\n"
     ]
    }
   ],
   "source": [
    "class Animal:\n",
    "    def cry(self):\n",
    "        print('...')\n",
    "        \n",
    "class Cat(Animal):\n",
    "    def cry(self):\n",
    "        print('야옹')\n",
    "        \n",
    "class Bird(Animal):\n",
    "    def cry(self):\n",
    "        print('짹짹')\n",
    "        \n",
    "class Bug(Animal):\n",
    "    pass\n",
    "\n",
    "for each in (Cat(), Bird(), Bug()):\n",
    "    each.cry()"
   ]
  },
  {
   "cell_type": "markdown",
   "metadata": {},
   "source": [
    "---\n",
    "상속 관계 내의 다른 클래스들의 인스턴스들이 같은 멤버 함수 호출에 대해 각각 다르게 반응하도록 하는 기능으로 적은 코딩으로 다양한 객체들에게 유사한 작업을 수행시킬 수 있고, 프로그램 작성 코드 량이 줄어들고, 코드의 가독성을 높혀준다.  \n",
    "특히 파이썬에서는 형 선언이 없다는 점에서 다형성을 적용하기가 더욱 용이하다. 그리고 실시간으로 객체의 형이 결정되므로 단 하나의 메소드에 의해 처리될 수 있는 객체의 종류에 제한이 없다. 즉, 다른 언어보다 코드의 양이 더욱 줄어든다.\n",
    "\n",
    "\n",
    "\n",
    "\n",
    "---"
   ]
  },
  {
   "cell_type": "markdown",
   "metadata": {},
   "source": [
    "### [3번 문제]\n",
    "\n",
    "다음 각 요구사항 모두를 만족시키는 Counter 클래스를 코딩하시오 (정답을 각 요구사항별로 입력할 필요 없이 3번 문제에 대해 1개의 클래스 정의 코드를 제시하면 된다.)\n",
    "\n",
    "•요구사항 1. 생성자에 count 값과 step 값을 인자로 받을 수 있다.  \n",
    " ◾count: Counter 인스턴스가 지니는 초기 정수 값  \n",
    " ◾step: Counter 인스턴스의 count가 증가되는 증분 (defalt 값: 1)  \n",
    "\n",
    "> \\>>> c = Counter(10)  \n",
    "> \\>>> d = Counter(10, 2) \n",
    "\n",
    "•요구사항 2. 다음과 같이 Counter의 인스턴스를 출력을 해주는 __str__() 메소드를 Counter 클래스 내에 구현하시오.\n",
    "> \\>>> print(c)  \n",
    "> \\[Count (step: 1)] 10   \n",
    "> \\>>> print(d)   \n",
    "> \\[Count (step: 2)] 10   \n",
    " \n",
    "•요구사항 3. 다음과 같이 step에 주어진 증분만큼 count를 증가시키는 incr() 메소드를 Counter 클래스 내에 구현하시오.  \n",
    "> \\>>> c.incr()  \n",
    " \\>>> d.incr()  \n",
    " \\>>> print(c)  \n",
    " [Count (step: 1)] 11  \n",
    " \\>>> print(d)  \n",
    " [Count (step: 2)] 12  \n",
    "\n",
    "•요구사항 4. Counter 클래스 내에 관련 메소드를 추가하여 인스턴스 객체를 직접 호출(call)할 수 있도록 하시오. 인스턴스 객체를 직접 호출했을 때에 내부적으로 incr() 메소드를 호출하는 방법으로 구현하시오.\n",
    "> \\>>> c()  \n",
    " \\>>> d()  \n",
    " \\>>> print(c)  \n",
    " [Count (step: 1)] 12  \n",
    " \\>>> print(d)  \n",
    " [Count (step: 2)] 14  \n",
    "\n",
    "•요구사항 5. 다음과 같은 두 개의 산술 연산 (+, -)이 수행될 수 있도록 Counter 클래스 내에 관련 메소드를 추가하시오.\n",
    "> \\>>> c = c + 5  \n",
    " \\>>> d = d - 5  \n",
    " \\>>> print(c)  \n",
    " [Count (step: 1)] 17  \n",
    " \\>>> print(d)  \n",
    " [Count (step: 2)] 9  \n",
    " \n",
    "•요구사항 6. 다음과 같은 관계연산 (>, <, ==)이 수행될 수 있도록 Counter 클래스 내에 관련 메소드를 추가하시오.\n",
    "> \\>>> print(c) > 10  \n",
    " True  \n",
    " \\>>> print(d) > 10  \n",
    " False  \n",
    " \\>>> print(c) < 10  \n",
    " False   \n",
    " \\>>> print(d) < 10  \n",
    " True  \n",
    " \\>>> print(c) == 17  \n",
    " True  \n",
    " \\>>> print(d) != 9  \n",
    " False  "
   ]
  },
  {
   "cell_type": "code",
   "execution_count": 52,
   "metadata": {},
   "outputs": [],
   "source": [
    "class Counter:\n",
    "    def __init__(self,count,step=1):\n",
    "        self.count = count\n",
    "        self.step = step\n",
    "    def __str__(self):\n",
    "        return (\"[Count (step: %d)] %d\"%(self.step,self.count))\n",
    "    def incr(self):\n",
    "        self.count = self.count + self.step\n",
    "    def __call__(self):\n",
    "        self.incr()\n",
    "    def __add__(self,B):\n",
    "        return Counter(self.count + B)\n",
    "    def __sub__(self,B):\n",
    "        return Counter(self.count-B)\n",
    "    def __lt__(self, other):\n",
    "        return self.count < other\n",
    "    def __gt__(self, other):\n",
    "        return self.count > other\n",
    "    def __eq__(self, other):\n",
    "        return self.count == other\n",
    "    def __ne__(self, other):\n",
    "        return self.count != other"
   ]
  },
  {
   "cell_type": "code",
   "execution_count": 49,
   "metadata": {},
   "outputs": [
    {
     "name": "stdout",
     "output_type": "stream",
     "text": [
      "[Count (step: 1)] 11\n",
      "[Count (step: 2)] 12\n",
      "[Count (step: 1)] 12\n",
      "[Count (step: 2)] 14\n",
      "[Count (step: 1)] 17\n",
      "[Count (step: 1)] 9\n",
      "True\n",
      "False\n",
      "False\n",
      "True\n",
      "True\n",
      "False\n"
     ]
    }
   ],
   "source": [
    "c = Counter(10) \n",
    "d = Counter(10, 2) \n",
    "c.incr() \n",
    "d.incr() \n",
    "print(c)\n",
    "print(d)\n",
    "c() \n",
    "d() \n",
    "print(c) \n",
    "print(d) \n",
    "c = c + 5 \n",
    "d = d - 5 \n",
    "print(c) \n",
    "print(d) \n",
    "print(c>10)  \n",
    "print(d>10) \n",
    "print(c<10) \n",
    "print(d<10) \n",
    "print(c==17) \n",
    "print(d!=9) "
   ]
  },
  {
   "cell_type": "markdown",
   "metadata": {},
   "source": [
    "---\n",
    "우선 \\__ init \\__ 메소드를 만든다. 매개변수로 자기자신인 self,count,step 을 넣고 step =1로 디폴트값을 넣어준다. count값과 step값을 각각 자기자신인 self.count와 self.step에 넣는다.  \n",
    "\\__ str \\__ 메소드는 print() 안에 쓸때만 나오게 하는데, (\"[Count (step: %d)] %d\"%(self.step,self.count)) 값을 반환하게한다.  \n",
    "incr메소드는 self.count 값에 self.count값과 self.step 값을 넣는다. c.incr() 이런식으로 표현할 수 있게 한다.  \n",
    "\\__ call \\__ 메소드는 위에 incr메소드를 c()형식으로 쓸수 있게한다.  \n",
    "\\__ add \\__ 와  \\__ sub \\__  각각 Counter(self.count + B) Counter(self.count - B) 형식으로 반환해줘서 print를 해줄때는 [Count (step: 1)] 9\n",
    "형식으로 나오게 하고, 값의 크기를 비교할 때는 값으로 비교할 수 있게 한다.  \n",
    "\\__ lt \\__ , \\__ gt \\__ ,  \\__ eq \\__ ,  \\__ ne \\__ 은 count에 들어있는 값과 매개변수로 입력받은 값을 비교한 뒤 조건에 맞으면 true 아니면 false를 반환하게 한다.  \n",
    "\n",
    "___"
   ]
  },
  {
   "cell_type": "markdown",
   "metadata": {},
   "source": [
    "### [4번 문제]\n",
    "\n",
    "다음은 내장 자료형 list를 서브클래싱하여 만든 MySet 클래스 정의 내용이다. 다음 클래스 정의에서 \\__ init \\__ (), \\__ str() \\__ (),   elimicate_duplicate()의 세 개의 메소드 코드 내용을 자신이 다른 사람에게 가르친다고 생각하며 설명해보시오.  \n",
    "•MySet은 집합(Set) 자료형을 정의하려는 의도하에 만들어진 클래스이다.  \n"
   ]
  },
  {
   "cell_type": "code",
   "execution_count": 50,
   "metadata": {},
   "outputs": [
    {
     "name": "stdout",
     "output_type": "stream",
     "text": [
      "MySet: {1 ,2 ,3}\n",
      "MySet: {2 ,3 ,4 ,5 ,6 ,7 ,8 ,9}\n"
     ]
    }
   ],
   "source": [
    "class MySet(list):\n",
    "    def __init__(self, l):\n",
    "        for e in l:\n",
    "            self.append(e)\n",
    "        MySet.eliminate_duplicate(self)\n",
    "    \n",
    "    def __str__(self):\n",
    "        result = \"MySet: {\"\n",
    "        for e in self:\n",
    "            result = result + str(e) + \" ,\"\n",
    "        result = result[0:len(result)-2] + \"}\"\n",
    "        return result\n",
    "\n",
    "    @staticmethod    \n",
    "    def eliminate_duplicate(l):\n",
    "        s = []\n",
    "        for e in l:\n",
    "            if e not in s:\n",
    "                s.append(e)\n",
    "        l[:] = []\n",
    "        for e in s:\n",
    "            l.append(e)\n",
    "\n",
    "    \n",
    "if __name__ == \"__main__\":\n",
    "    s = MySet([1, 2, 2, 3])\n",
    "    print(s)\n",
    "    t = MySet([2, 3, 4, 5, 6, 7, 8, 8, 8, 8, 8, 9])\n",
    "    print(t)"
   ]
  },
  {
   "cell_type": "markdown",
   "metadata": {},
   "source": [
    "---\n",
    "우선 eliminate_duplicate(l) 메소드는 빈리스트 s에 리스트 l의 원소중 s에 있지 않은 것을 넣어주고, 리스트l을 빈리스트로 만들어주고 s의 원소들을 리스트 l에 넣어준다. 여기서 @staticmethod 클래스 내에 정의된 함수에 대해 클래스에서 바로 호출할 수 있는 클래스 메소드로 바꾸어준다.  \n",
    "\\__ init \\__ 생성자로 매개변수로 받은 리스트의 각각의 원소를 자기 자신의 객체 리스트 self에 넣어준다.  \n",
    "그리고 MySet.eliminate_duplicate(self)을 실행해준다.  \n",
    "\\__ str \\__  는 print 예약어나 str() 내장함수 호출에 대응되는 메소드이다. 우선 문자열 result에 \"MySet : {\"을 넣어주고 자기자신의 객체 self의 원소를 문자열로 바꿔주고 result에 \"MySet : {1 , 2 , 3 ,\" 형식으로 넣어준다. 다시 result에 처음부터 끝에서 두번째 인덱스까지의 값과 }를 합치므로 \"MySet : {1 ,2 ,3}\"의 형식이 되고 이 값을 반환해준다.\n",
    "\n",
    "---"
   ]
  },
  {
   "cell_type": "markdown",
   "metadata": {},
   "source": [
    "### [5번 문제]\n",
    "\n",
    "4번 문제에 정의된 MySet 클래스에 메소드를 추가하여 다음 각 요구사항 모두를 만족시키는 코딩을 제시하시오  \n",
    "•정답을 각 요구사항별로 입력할 필요 없이 요구사항 3개 전체에 대해 1개의 MySet 클래스 정의 코드를 제시하고 주석등으로 해당 코드를 설명한다.\n",
    "\n",
    "•요구사항 1. | 연산으로 두 집합의 합집합을 반환한다.\n",
    "\n",
    "\n",
    "> \\>>> u = s | t  \n",
    "> \\>>> print(u)  \n",
    "> MySet: {1, 2, 3, 4, 5, 6, 7, 8, 9}  \n",
    "\n",
    "\n",
    "\n",
    "•요구사항 2. & 연산으로 두 집합의 교집합을 반환한다.\n",
    "\n",
    "\n",
    "> \\>>> u = s & t  \n",
    "> \\>>> print(u)  \n",
    "> MySet: {2, 3}  \n",
    "\n",
    "\n",
    "\n",
    "•요구사항 3. - 연산으로 두 집합의 차집합을 반환한다.\n",
    "\n",
    "\n",
    "> \\>>> s = MySet([1, 2, 3])  \n",
    "  \\>>> t = MySet([3, 4, 5])  \n",
    "  \\>>> u = s - t  \n",
    " \\>>> print(u)  \n",
    " MySet: {1, 2}  \n",
    "\n"
   ]
  },
  {
   "cell_type": "code",
   "execution_count": 1,
   "metadata": {},
   "outputs": [
    {
     "name": "stdout",
     "output_type": "stream",
     "text": [
      "MySet: {1 ,2 ,3}\n",
      "MySet: {2 ,3 ,4 ,5 ,6 ,7 ,8 ,9}\n",
      "MySet: {1 ,2 ,3 ,4 ,5 ,6 ,7 ,8 ,9}\n",
      "MySet: {2 ,3}\n",
      "MySet: {1 ,2}\n"
     ]
    }
   ],
   "source": [
    "class MySet(list):\n",
    "    def __init__(self, l):\n",
    "        for e in l:\n",
    "            self.append(e)\n",
    "        MySet.eliminate_duplicate(self)\n",
    "    \n",
    "    def __str__(self):\n",
    "        result = \"MySet: {\"\n",
    "        for e in self:\n",
    "            result = result + str(e) + \" ,\"\n",
    "        result = result[0:len(result)-2] + \"}\"\n",
    "        return result\n",
    "\n",
    "    @staticmethod    \n",
    "    def eliminate_duplicate(l):\n",
    "        s = []\n",
    "        for e in l:\n",
    "            if e not in s:\n",
    "                s.append(e)\n",
    "        l[:] = []\n",
    "        for e in s:\n",
    "            l.append(e)\n",
    "    \n",
    "    def __or__(self, other):\n",
    "        self = set(self)\n",
    "        other = set(other)\n",
    "        self = self|other\n",
    "        self = list(self)\n",
    "        return MySet(self)\n",
    "    \n",
    "    def __and__(self, other):\n",
    "        self = set(self)\n",
    "        other = set(other)\n",
    "        self = self&other\n",
    "        self = list(self)\n",
    "        return MySet(self)\n",
    "    \n",
    "    def __sub__(self,other):\n",
    "        self = set(self)\n",
    "        other = set(other)\n",
    "        self = self-other\n",
    "        self = list(self)\n",
    "        return MySet(self)\n",
    "\n",
    "    \n",
    "if __name__ == \"__main__\":\n",
    "    s = MySet([1, 2, 2, 3])\n",
    "    print(s)\n",
    "    t = MySet([2, 3, 4, 5, 6, 7, 8, 8, 8, 8, 8, 9])\n",
    "    print(t)\n",
    "    u = s | t \n",
    "    print(u)\n",
    "    u = s & t \n",
    "    print(u)\n",
    "    s = MySet([1, 2, 3]) \n",
    "    t = MySet([3, 4, 5]) \n",
    "    u = s - t \n",
    "    print(u) "
   ]
  },
  {
   "cell_type": "markdown",
   "metadata": {},
   "source": [
    "---\n",
    "\\__ or \\__ 메소드는 우선 각각의 매개변수를 set을 이용해 집합으로 바꾸어준다. 그 후 self에 두 집합의 교집합을 넣어준다. 그리고 self를 리스트로 바꾸어주고 MySet(self)클래스로 반환한다.  \n",
    "\\__ and \\__ 메소드도 우선 각각의 매개변수를 set을 이용해 집합으로 바꾸어준다. 그 후 self에 두 집합의 합집합을 넣어준다. 그리고 self를 리스트로 바꾸어주고 MySet(self)클래스로 반환한다.  \n",
    "나머지 \\__ sub \\__ 메소드도 우선 각각의 매개변수를 set을 이용해 집합으로 바꾸어준다. 그 후 self에 두 집합의 차집합을 넣어준다. 그리고 self를 리스트로 바꾸어주고 MySet(self)클래스로 반환한다.  \n",
    "\n",
    "---"
   ]
  },
  {
   "cell_type": "markdown",
   "metadata": {},
   "source": [
    "### [6번 문제]\n",
    "\n",
    "5번 문제에서 정의한 MySet 클래스에 대해 다음 예제를 수행하면 오류없이 올바르게 동작하는 것을 확인할 수 있다. 다음 예제 내에 있는 len(), bool() 내장함수와 in 키워드 사용 예제가 별다른 메소드 정의를 하지 않았는 데도 올바르게 수행되는 이유를 설명하시오.  \n",
    "\\>>> s = MySet([1, 2, 3, 4, 5, 6])  \n",
    "\\>>> print(len(s))  \n",
    "\\> 6  \n",
    "\\>>> print(bool(s))  \n",
    "\\> True  \n",
    "\\>>> print(2 in s)  \n",
    "\\> True  \n"
   ]
  },
  {
   "cell_type": "code",
   "execution_count": 2,
   "metadata": {},
   "outputs": [
    {
     "name": "stdout",
     "output_type": "stream",
     "text": [
      "6\n",
      "True\n",
      "True\n"
     ]
    }
   ],
   "source": [
    "s = MySet([1, 2, 3, 4, 5, 6])\n",
    "print(len(s))\n",
    "print(bool(s))\n",
    "print(2 in s)"
   ]
  },
  {
   "cell_type": "markdown",
   "metadata": {},
   "source": [
    "---\n",
    "파이썬 인터프리터에는 항상 사용할 수 있는 많은 함수와 형이 내장되어 있다.  \n",
    "파이썬 기본 내장함수와 키워드이기 때문에 len(), bool(), in 등을 별다른 메소드 정의를 하지 않아도 사용할 수 있다.  \n",
    "\n",
    "---"
   ]
  },
  {
   "cell_type": "markdown",
   "metadata": {},
   "source": [
    "#### [7번 문제]\n",
    "\n",
    "이전 Assignment 3 & Assignment 4를 다시 확장/변형하여 다음과 같은 조건을 만족하도록 구현하시오 (CODE REFACTORING!!!).  \n",
    "•1) 새로운 클래스 SearchEngine를 정의하시오.  \n",
    "◾이전 숙제에서 고려했던 pickle 모듈 등은 전혀 고려하지 마시오.  \n",
    "    ◦즉, 하드디스크에 저장하고 다시 로드하는 기능은 본 숙제에는 배제하시오.  \n",
    " \n",
    "◾이전 숙제에서 적용했던 국어/영어 불용어 처리는 적용하시오.  \n",
    "\n",
    "\n",
    "•2) 생성자에 URL을 0개에서 임의의 개수를 넣을 수 있도록 생성자 인수를 가변인수로 정의하여 각각의 URL을 리스트 자료형에 유지하시오.  \n",
    "\n",
    "> \\>>> w1 = SearchEngine('http://www.cnn.com', 'http://www.times.com', 'https://www.amazon.com')  \n",
    " \\>>> w2 = SearchEngine('http://www.cnn.com', 'http://www.times.com')  \n",
    " \\>>> w3 = SearchEngine()  \n",
    "\n",
    "\n",
    "\n",
    "•3) addUrl() 메소드를 구현하여 인스턴스를 생성한 이후에도 URL을 추가할 수 있도록 한다.  \n",
    "◾반드시 1개의 URL을 추가하도록 구현 (즉, 동시에 여러 개의 URL을 추가하는 것은 배제)  \n",
    "\n",
    "\n",
    "> \\>>> w1.addUrl('https://github.com')  \n",
    " \\>>> w3.addUrl('http://stackoverflow.com')  \n",
    "\n",
    "\n",
    "\n",
    "•4) removeUrl() 메소드를 구현하여 URL을 삭제할 수 있도록 한다.  \n",
    "◾반드시 1개의 URL을 삭제하도록 구현 (즉, 동시에 여러 개의 URL을 삭제하는 것은 배제)   \n",
    "\n",
    "\n",
    "> \\>>> w1.removeUrl('http://www.cnn.com')   \n",
    " \\>>> w2.removeUrl('http://stackoverflow.com')  \n",
    "\n",
    "\n",
    "•5) listUrls() 메소드를 구현하여 현재 등록된 모든 URL을 출력하는 기능을 추가  \n",
    "\n",
    "> \\>>> w1.listUrls()  \n",
    "http://www.times.com  \n",
    "https://www.amazon.com  \n",
    "https://github.com  \n",
    "\n",
    "\n",
    "\n",
    "•6) getWordsFrequency() 메소드를 구현하여 각 URL의 웹페이지들을 종합적으로 분석한 단어 출현 빈도 사전을 반환하시오.  \n",
    "◾만약 등록된 URL이 없다면 공백 사전을 반환   \n",
    "\n",
    "\n",
    "> \\>>> w1.getWordsFrequency()   \n",
    " {'hello': 8, 'site': 12, 'world': 2, 'science': 11, 'program': 1, 'python': 1}  \n",
    "\n",
    "\n",
    "•7) getMaxFreqencyWords() 메소드를 구현하여 각 URL의 웹페이지들을 종합적으로 분석한 단어 출현 빈도 사전에서 가장 많이 출현한 단어 리스트를 반환하시오.  \n",
    "\n",
    "\n",
    "> \\>>> w1.getMaxFreqencyWords()  \n",
    " site  \n",
    "\n",
    "◾최다 출현 단어의 빈도수가 동일한 경우 모두 출력해주어야 함  \n",
    "\n",
    "\n",
    "> \\>>> w2.getMaxFreqencyWords()  \n",
    " site  \n",
    " science \n",
    "\n",
    "◾만약 등록된 URL이 없다면 getMaxFreqencyWords()의 반환 값은 None이 되어야 함.  \n",
    "\n",
    "\n",
    "•8) 임의의 단어 1개를 파라미터로 받는 searchUrlByWord() 메소드를 구현하여 유사도가 높은 웹 사이트를 출력하시오.  \n",
    "\n",
    "\n",
    "> \\>>> w1.searchUrlByWord(\"news\")  \n",
    "http://www.cnn.com   \n",
    "\n",
    "◾파라미터로 받은 단어와 유사도가 동일한 URL이 여러 개이면 해당 URL을 모두 출력하시오. \n",
    "\n"
   ]
  },
  {
   "cell_type": "markdown",
   "metadata": {},
   "source": [
    "#### [8번 문제]\n",
    "\n",
    "위 7번 문제에서 정의한 SearchEngine 클래스를 상속하여 SearchEngineWithOrderedWebWords 클래스를 정의하고 슈퍼클래스에 정의된   getWordsFrequency() 메소드를 오버라이드하여 단어 출현 빈도를 내림 차순으로 정렬하여 리스트로 출력하시오.  \n",
    "\n",
    "•리스트 내의 각 원소는 단어와 빈도를 쌍으로 지니는 튜플이다.  \n",
    "•getWordFrequence() 메소드에 reverse 라는 인자를 만들고 true 또는 false를 인자로 받을 수 있도록 한다.  \n",
    "\n",
    "◾reverse 인자의 디폴트 값은 false 이며, 기본적으로 내림차순으로 정렬한다.  \n",
    "◾reverse 인자에 true를 넣으면 오름차순으로 정렬한다.  \n",
    "\n",
    "\n",
    "> \\>>> w4 = SearchEngineWithOrderedWebWords('http://www.times.com', 'https://www.amazon.com', 'https://github.com')  \n",
    ">\n",
    ">  \\>>> w4.getWordsFrequency()  \n",
    "> [('site', 12), ('science', 11), ('hello', 8), ('world', 2), ('program', 1), ('python', 1)]\n",
    ">\n",
    ">  \\>>> w4.getWordsFrequency(reverse=true)  \n",
    "> [('program', 1), ('python', 1), ('world', 2), ('hello', 8), ('science', 11), ('site', 12)]\n",
    "\n"
   ]
  },
  {
   "cell_type": "markdown",
   "metadata": {},
   "source": [
    "#### [9번 문제]\n",
    "\n",
    "다음과 같은 코딩이 가능하도록 SearchEngineWithOrderedWebWords안에 반복자와 관련된 메소드를 추가하시오.\n",
    "\n",
    "\n",
    "> \\>>> for i in w4:  \n",
    " \\>>>       print(i)  \n",
    " ('site, 12)  \n",
    " ('science', 11)  \n",
    " ('hello', 8)  \n",
    " ('world', 2)  \n",
    " ('program', 1)  \n",
    " ('python', 1)  \n"
   ]
  },
  {
   "cell_type": "markdown",
   "metadata": {},
   "source": [
    "### [소감]\n",
    "\n",
    "이제 이렇게 마지막 과제를 제출하게 되었습니다. 지금까지 배웠던 프로그래밍언어 중에서 가장 재미있는 언어가 아니었나 생각이 들었습니다. c언어로는 구현하는 것도 어려운 코딩을 파이썬은 단 몇 줄로만 스스로 구현할 수 있으니 더 재미있던 것 같습니다.   \n",
    "이런 언어도 있구나하고 배워가는 것 같습니다. 감사합니다.  "
   ]
  }
 ],
 "metadata": {
  "kernelspec": {
   "display_name": "Python 3",
   "language": "python",
   "name": "python3"
  },
  "language_info": {
   "codemirror_mode": {
    "name": "ipython",
    "version": 3
   },
   "file_extension": ".py",
   "mimetype": "text/x-python",
   "name": "python",
   "nbconvert_exporter": "python",
   "pygments_lexer": "ipython3",
   "version": "3.6.5"
  }
 },
 "nbformat": 4,
 "nbformat_minor": 2
}
